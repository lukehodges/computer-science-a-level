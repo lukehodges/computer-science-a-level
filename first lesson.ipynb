{
 "cells": [
  {
   "cell_type": "code",
   "execution_count": 21,
   "metadata": {},
   "outputs": [],
   "source": [
    "import random\n",
    "def determineName(first,second):\n",
    "    name = first[:3]\n",
    "    numbers = (chr(random.randint(97,112)) for _ in range(3))\n",
    "\n",
    "    for i in numbers:\n",
    "        name = name + i\n",
    "    for _ in range(6):\n",
    "        name = name + random.choice(second)\n",
    "    return name\n"
   ]
  },
  {
   "cell_type": "code",
   "execution_count": 26,
   "metadata": {},
   "outputs": [],
   "source": [
    "with open(\"me.txt\",\"w\") as f:\n",
    "    f.write(determineName(\"bob\",\"amartican\"))\n",
    "    \n"
   ]
  }
 ],
 "metadata": {
  "kernelspec": {
   "display_name": "Python 3",
   "language": "python",
   "name": "python3"
  },
  "language_info": {
   "codemirror_mode": {
    "name": "ipython",
    "version": 3
   },
   "file_extension": ".py",
   "mimetype": "text/x-python",
   "name": "python",
   "nbconvert_exporter": "python",
   "pygments_lexer": "ipython3",
   "version": "3.10.8"
  },
  "orig_nbformat": 4
 },
 "nbformat": 4,
 "nbformat_minor": 2
}
